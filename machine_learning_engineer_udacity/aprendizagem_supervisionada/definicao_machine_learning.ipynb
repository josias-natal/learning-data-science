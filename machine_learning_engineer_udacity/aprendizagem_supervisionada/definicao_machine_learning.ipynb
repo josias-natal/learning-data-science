{
 "cells": [
  {
   "cell_type": "markdown",
   "metadata": {},
   "source": [
    "## O que é machine learning ?\n",
    "É ensinar computadores a fazer tarefas a partr de experiências passadas (dados).\n",
    "\n",
    "### Áreas de aprendizagem:\n",
    "1. Aprendizagem supervisionada\n",
    "2. Aprendizagem não supervisionada\n",
    "3. Aprendizagem por reforço\n",
    "4. Deep Learning"
   ]
  },
  {
   "cell_type": "markdown",
   "metadata": {},
   "source": [
    "### Aprendizagem supervisionada:\n",
    " - regressão linear\n",
    " - Perceptrons\n",
    " - árvores de decisão\n",
    " - naive bayes\n",
    " - máquinas vetorias\n",
    " - método de ensemble\n",
    " "
   ]
  },
  {
   "cell_type": "markdown",
   "metadata": {},
   "source": [
    "### Aprendizagem não supervisionada:\n",
    " - Clustering\n",
    " - Clustering hierarquico\n",
    " - Modelos de mistura de gaussianas e validação de cluster\n",
    " - Dimensionamento de atributos\n",
    " - Análise de componentes principais"
   ]
  },
  {
   "cell_type": "markdown",
   "metadata": {},
   "source": [
    "### Aprendizagem por reforço:\n",
    " - A estrutura da aprendizagem por reforço: o problema\n",
    " - A estrutura da aprendizagem por reforço: a solução\n",
    " - Programação dinâmica\n",
    " - Métodos de Monte Carlo\n",
    " - Métodos de diferença temporal (TD)\n",
    " - Aprendizagem por reforço em espaços contínuos\n",
    " - Aprendizado-Q profundo\n",
    " - Gradientes de política\n",
    " - Métodos ator-críticos\n",
    "\n",
    "\n"
   ]
  },
  {
   "cell_type": "code",
   "execution_count": null,
   "metadata": {},
   "outputs": [],
   "source": []
  }
 ],
 "metadata": {
  "kernelspec": {
   "display_name": "Python 3",
   "language": "python",
   "name": "python3"
  },
  "language_info": {
   "codemirror_mode": {
    "name": "ipython",
    "version": 3
   },
   "file_extension": ".py",
   "mimetype": "text/x-python",
   "name": "python",
   "nbconvert_exporter": "python",
   "pygments_lexer": "ipython3",
   "version": "3.6.5"
  }
 },
 "nbformat": 4,
 "nbformat_minor": 2
}
