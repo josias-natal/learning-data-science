{
 "cells": [
  {
   "cell_type": "markdown",
   "metadata": {},
   "source": [
    "## Load Data from CSVs"
   ]
  },
  {
   "cell_type": "code",
   "execution_count": 103,
   "metadata": {
    "collapsed": true
   },
   "outputs": [],
   "source": [
    "import unicodecsv\n",
    "\n",
    "def read_csv(filename):\n",
    "    with open(filename, 'rb') as f:\n",
    "        reader = unicodecsv.DictReader(f)\n",
    "        return list(reader)"
   ]
  },
  {
   "cell_type": "code",
   "execution_count": 104,
   "metadata": {},
   "outputs": [],
   "source": [
    "## variaveis que armazenam as funcoes para abrir as tabelas.\n",
    "\n",
    "enrollments = read_csv('enrollments.csv')\n",
    "daily_engagement = read_csv('daily_engagement.csv')\n",
    "project_submissions = read_csv('project_submissions.csv')"
   ]
  },
  {
   "cell_type": "code",
   "execution_count": 105,
   "metadata": {},
   "outputs": [
    {
     "data": {
      "text/plain": [
       "OrderedDict([('account_key', '448'),\n",
       "             ('status', 'canceled'),\n",
       "             ('join_date', '2014-11-10'),\n",
       "             ('cancel_date', '2015-01-14'),\n",
       "             ('days_to_cancel', '65'),\n",
       "             ('is_udacity', 'True'),\n",
       "             ('is_canceled', 'True')])"
      ]
     },
     "execution_count": 105,
     "metadata": {},
     "output_type": "execute_result"
    }
   ],
   "source": [
    "# testa a tabela e mostra as coluna de enrollments[0]\n",
    "enrollments[0]"
   ]
  },
  {
   "cell_type": "code",
   "execution_count": 106,
   "metadata": {},
   "outputs": [
    {
     "data": {
      "text/plain": [
       "OrderedDict([('acct', '0'),\n",
       "             ('utc_date', '2015-01-09'),\n",
       "             ('num_courses_visited', '1.0'),\n",
       "             ('total_minutes_visited', '11.6793745'),\n",
       "             ('lessons_completed', '0.0'),\n",
       "             ('projects_completed', '0.0')])"
      ]
     },
     "execution_count": 106,
     "metadata": {},
     "output_type": "execute_result"
    }
   ],
   "source": [
    "# testa a tabela e mostra as coluna de daily_engagement[0]\n",
    "daily_engagement[0]"
   ]
  },
  {
   "cell_type": "code",
   "execution_count": 107,
   "metadata": {},
   "outputs": [
    {
     "data": {
      "text/plain": [
       "OrderedDict([('creation_date', '2015-01-14'),\n",
       "             ('completion_date', '2015-01-16'),\n",
       "             ('assigned_rating', 'UNGRADED'),\n",
       "             ('account_key', '256'),\n",
       "             ('lesson_key', '3176718735'),\n",
       "             ('processing_state', 'EVALUATED')])"
      ]
     },
     "execution_count": 107,
     "metadata": {},
     "output_type": "execute_result"
    }
   ],
   "source": [
    "# testa a tabela e mostra as coluna de project_submissions[0]\n",
    "project_submissions[0]"
   ]
  },
  {
   "cell_type": "markdown",
   "metadata": {},
   "source": [
    "## Fixing Data Types\n",
    "\n",
    "- conversao de dados"
   ]
  },
  {
   "cell_type": "code",
   "execution_count": 108,
   "metadata": {
    "collapsed": true
   },
   "outputs": [],
   "source": [
    "from datetime import datetime as dt\n",
    "\n",
    "# Takes a date as a string, and returns a Python datetime object. \n",
    "# If there is no date given, returns None\n",
    "def parse_date(date):\n",
    "    if date == '':\n",
    "        return None\n",
    "    else:\n",
    "        return dt.strptime(date, '%Y-%m-%d')\n",
    "    \n",
    "# Takes a string which is either an empty string or represents an integer,\n",
    "# and returns an int or None.\n",
    "def parse_maybe_int(i):\n",
    "    if i == '':\n",
    "        return None\n",
    "    else:\n",
    "        return int(i)"
   ]
  },
  {
   "cell_type": "code",
   "execution_count": 109,
   "metadata": {},
   "outputs": [
    {
     "data": {
      "text/plain": [
       "OrderedDict([('account_key', '448'),\n",
       "             ('status', 'canceled'),\n",
       "             ('join_date', datetime.datetime(2014, 11, 10, 0, 0)),\n",
       "             ('cancel_date', datetime.datetime(2015, 1, 14, 0, 0)),\n",
       "             ('days_to_cancel', 65),\n",
       "             ('is_udacity', True),\n",
       "             ('is_canceled', True)])"
      ]
     },
     "execution_count": 109,
     "metadata": {},
     "output_type": "execute_result"
    }
   ],
   "source": [
    "# Clean up the data types in the enrollments table\n",
    "# percorre linha por linha da tabela ENROLLMENTS e tenta converter o dado usando as funcoes acima\n",
    "for enrollment in enrollments:\n",
    "    enrollment['cancel_date'] = parse_date(enrollment['cancel_date'])\n",
    "    enrollment['days_to_cancel'] = parse_maybe_int(enrollment['days_to_cancel'])\n",
    "    enrollment['is_canceled'] = enrollment['is_canceled'] == 'True'\n",
    "    enrollment['is_udacity'] = enrollment['is_udacity'] == 'True'\n",
    "    enrollment['join_date'] = parse_date(enrollment['join_date'])\n",
    "    \n",
    "enrollments[0]"
   ]
  },
  {
   "cell_type": "code",
   "execution_count": 110,
   "metadata": {
    "collapsed": true
   },
   "outputs": [
    {
     "data": {
      "text/plain": [
       "OrderedDict([('acct', '0'),\n",
       "             ('utc_date', datetime.datetime(2015, 1, 9, 0, 0)),\n",
       "             ('num_courses_visited', 1),\n",
       "             ('total_minutes_visited', 11.6793745),\n",
       "             ('lessons_completed', 0),\n",
       "             ('projects_completed', 0)])"
      ]
     },
     "execution_count": 110,
     "metadata": {},
     "output_type": "execute_result"
    }
   ],
   "source": [
    "# Clean up the data types in the engagement table\n",
    "for engagement_record in daily_engagement:\n",
    "    engagement_record['lessons_completed'] = int(float(engagement_record['lessons_completed']))\n",
    "    engagement_record['num_courses_visited'] = int(float(engagement_record['num_courses_visited']))\n",
    "    engagement_record['projects_completed'] = int(float(engagement_record['projects_completed']))\n",
    "    engagement_record['total_minutes_visited'] = float(engagement_record['total_minutes_visited'])\n",
    "    engagement_record['utc_date'] = parse_date(engagement_record['utc_date'])\n",
    "    \n",
    "daily_engagement[0]"
   ]
  },
  {
   "cell_type": "code",
   "execution_count": 111,
   "metadata": {
    "collapsed": true
   },
   "outputs": [
    {
     "data": {
      "text/plain": [
       "OrderedDict([('creation_date', datetime.datetime(2015, 1, 14, 0, 0)),\n",
       "             ('completion_date', datetime.datetime(2015, 1, 16, 0, 0)),\n",
       "             ('assigned_rating', 'UNGRADED'),\n",
       "             ('account_key', '256'),\n",
       "             ('lesson_key', '3176718735'),\n",
       "             ('processing_state', 'EVALUATED')])"
      ]
     },
     "execution_count": 111,
     "metadata": {},
     "output_type": "execute_result"
    }
   ],
   "source": [
    "# Clean up the data types in the submissions table\n",
    "for submission in project_submissions:\n",
    "    submission['completion_date'] = parse_date(submission['completion_date'])\n",
    "    submission['creation_date'] = parse_date(submission['creation_date'])\n",
    "\n",
    "project_submissions[0]"
   ]
  },
  {
   "cell_type": "markdown",
   "metadata": {},
   "source": [
    "## Investigating the Data\n",
    "- Remoção de elementos repetidos"
   ]
  },
  {
   "cell_type": "code",
   "execution_count": 112,
   "metadata": {
    "collapsed": true
   },
   "outputs": [
    {
     "name": "stdout",
     "output_type": "stream",
     "text": [
      "Total enrollments = 1640\n",
      "Total enrollments set() = 1302\n",
      "Total daily_engagement = 136240\n",
      "Total daily_engagement set() = 1237\n",
      "Total project_submissions = 3642\n",
      "Total project_submissions set() = 743\n"
     ]
    }
   ],
   "source": [
    "## Garanta que nao haja elementos repetidos\n",
    "\n",
    "len(enrollments)\n",
    "\n",
    "# utiliza a estrutura de dados set() para garantir que não haja alunos repetidos\n",
    "unique_enrolled_students = set()\n",
    "\n",
    "for enrollment in enrollments:\n",
    "    # armazena cada aluno da tabela num set()\n",
    "    unique_enrolled_students.add(enrollment['account_key'])\n",
    "len(unique_enrolled_students)\n",
    "\n",
    "print(f'Total enrollments = {len(enrollments)}')\n",
    "print(f'Total enrollments set() = {len(unique_enrolled_students)}')\n",
    "\n",
    "len(daily_engagement)\n",
    "unique_engagement_students = set()\n",
    "for engagement_record in daily_engagement:\n",
    "    unique_engagement_students.add(engagement_record['acct'])\n",
    "len(unique_engagement_students)\n",
    "\n",
    "print(f'Total daily_engagement = {len(daily_engagement)}')\n",
    "print(f'Total daily_engagement set() = {len(unique_engagement_students)}')\n",
    "\n",
    "len(project_submissions)\n",
    "unique_project_submitters = set()\n",
    "for submission in project_submissions:\n",
    "    unique_project_submitters.add(submission['account_key'])\n",
    "len(unique_project_submitters)\n",
    "\n",
    "print(f'Total project_submissions = {len(project_submissions)}')\n",
    "print(f'Total project_submissions set() = {len(unique_project_submitters)}')"
   ]
  },
  {
   "cell_type": "markdown",
   "metadata": {},
   "source": [
    "## Relacionamento\n",
    "- PK de todas as tabelas"
   ]
  },
  {
   "cell_type": "code",
   "execution_count": 113,
   "metadata": {
    "collapsed": true
   },
   "outputs": [
    {
     "data": {
      "text/plain": [
       "'0'"
      ]
     },
     "execution_count": 113,
     "metadata": {},
     "output_type": "execute_result"
    }
   ],
   "source": [
    "## Rename the \"acct\" column in the daily_engagement table to \"account_key\".\n",
    "\n",
    "for engagement in daily_engagement:\n",
    "    engagement['account_key'] = engagement['acct']\n",
    "    del[engagement['acct']]\n",
    "daily_engagement[0]['account_key']"
   ]
  },
  {
   "cell_type": "markdown",
   "metadata": {},
   "source": [
    "- LEFT, RIGHT, NATURAL JOIN\n",
    "- WHERE ()\n",
    "\n",
    "Depende do o quê esta se precisando.\n",
    "\n",
    "Neste caso foi solicitado para saber quais alunos inscritos (enrollments) mas NAO estao enganjados diariamente:\n",
    "`where student **not in** unique_engagement_students`"
   ]
  },
  {
   "cell_type": "code",
   "execution_count": 114,
   "metadata": {},
   "outputs": [
    {
     "name": "stdout",
     "output_type": "stream",
     "text": [
      "OrderedDict([('account_key', '1219'), ('status', 'canceled'), ('join_date', datetime.datetime(2014, 11, 12, 0, 0)), ('cancel_date', datetime.datetime(2014, 11, 12, 0, 0)), ('days_to_cancel', 0), ('is_udacity', False), ('is_canceled', True)])\n",
      "OrderedDict([('account_key', '871'), ('status', 'canceled'), ('join_date', datetime.datetime(2014, 11, 13, 0, 0)), ('cancel_date', datetime.datetime(2014, 11, 13, 0, 0)), ('days_to_cancel', 0), ('is_udacity', False), ('is_canceled', True)])\n",
      "OrderedDict([('account_key', '1218'), ('status', 'canceled'), ('join_date', datetime.datetime(2014, 11, 15, 0, 0)), ('cancel_date', datetime.datetime(2014, 11, 15, 0, 0)), ('days_to_cancel', 0), ('is_udacity', False), ('is_canceled', True)])\n",
      "OrderedDict([('account_key', '654'), ('status', 'canceled'), ('join_date', datetime.datetime(2014, 12, 4, 0, 0)), ('cancel_date', datetime.datetime(2014, 12, 4, 0, 0)), ('days_to_cancel', 0), ('is_udacity', False), ('is_canceled', True)])\n",
      "OrderedDict([('account_key', '654'), ('status', 'canceled'), ('join_date', datetime.datetime(2014, 12, 4, 0, 0)), ('cancel_date', datetime.datetime(2014, 12, 4, 0, 0)), ('days_to_cancel', 0), ('is_udacity', False), ('is_canceled', True)])\n",
      "OrderedDict([('account_key', '654'), ('status', 'canceled'), ('join_date', datetime.datetime(2014, 12, 3, 0, 0)), ('cancel_date', datetime.datetime(2014, 12, 3, 0, 0)), ('days_to_cancel', 0), ('is_udacity', False), ('is_canceled', True)])\n",
      "OrderedDict([('account_key', '964'), ('status', 'canceled'), ('join_date', datetime.datetime(2014, 12, 4, 0, 0)), ('cancel_date', datetime.datetime(2014, 12, 4, 0, 0)), ('days_to_cancel', 0), ('is_udacity', False), ('is_canceled', True)])\n",
      "OrderedDict([('account_key', '817'), ('status', 'canceled'), ('join_date', datetime.datetime(2014, 12, 9, 0, 0)), ('cancel_date', datetime.datetime(2014, 12, 9, 0, 0)), ('days_to_cancel', 0), ('is_udacity', False), ('is_canceled', True)])\n",
      "OrderedDict([('account_key', '1171'), ('status', 'canceled'), ('join_date', datetime.datetime(2015, 1, 7, 0, 0)), ('cancel_date', datetime.datetime(2015, 1, 7, 0, 0)), ('days_to_cancel', 0), ('is_udacity', False), ('is_canceled', True)])\n",
      "OrderedDict([('account_key', '884'), ('status', 'canceled'), ('join_date', datetime.datetime(2015, 1, 8, 0, 0)), ('cancel_date', datetime.datetime(2015, 1, 8, 0, 0)), ('days_to_cancel', 0), ('is_udacity', False), ('is_canceled', True)])\n",
      "OrderedDict([('account_key', '875'), ('status', 'canceled'), ('join_date', datetime.datetime(2014, 11, 17, 0, 0)), ('cancel_date', datetime.datetime(2014, 11, 17, 0, 0)), ('days_to_cancel', 0), ('is_udacity', False), ('is_canceled', True)])\n",
      "OrderedDict([('account_key', '1120'), ('status', 'canceled'), ('join_date', datetime.datetime(2014, 12, 4, 0, 0)), ('cancel_date', datetime.datetime(2014, 12, 4, 0, 0)), ('days_to_cancel', 0), ('is_udacity', False), ('is_canceled', True)])\n",
      "OrderedDict([('account_key', '728'), ('status', 'canceled'), ('join_date', datetime.datetime(2014, 12, 5, 0, 0)), ('cancel_date', datetime.datetime(2014, 12, 5, 0, 0)), ('days_to_cancel', 0), ('is_udacity', False), ('is_canceled', True)])\n",
      "OrderedDict([('account_key', '1191'), ('status', 'canceled'), ('join_date', datetime.datetime(2015, 1, 11, 0, 0)), ('cancel_date', datetime.datetime(2015, 1, 11, 0, 0)), ('days_to_cancel', 0), ('is_udacity', False), ('is_canceled', True)])\n",
      "OrderedDict([('account_key', '1304'), ('status', 'canceled'), ('join_date', datetime.datetime(2015, 1, 10, 0, 0)), ('cancel_date', datetime.datetime(2015, 3, 10, 0, 0)), ('days_to_cancel', 59), ('is_udacity', True), ('is_canceled', True)])\n",
      "OrderedDict([('account_key', '1304'), ('status', 'canceled'), ('join_date', datetime.datetime(2015, 3, 10, 0, 0)), ('cancel_date', datetime.datetime(2015, 6, 17, 0, 0)), ('days_to_cancel', 99), ('is_udacity', True), ('is_canceled', True)])\n",
      "OrderedDict([('account_key', '1010'), ('status', 'canceled'), ('join_date', datetime.datetime(2015, 1, 11, 0, 0)), ('cancel_date', datetime.datetime(2015, 1, 11, 0, 0)), ('days_to_cancel', 0), ('is_udacity', False), ('is_canceled', True)])\n",
      "OrderedDict([('account_key', '841'), ('status', 'canceled'), ('join_date', datetime.datetime(2014, 11, 12, 0, 0)), ('cancel_date', datetime.datetime(2014, 11, 12, 0, 0)), ('days_to_cancel', 0), ('is_udacity', False), ('is_canceled', True)])\n",
      "OrderedDict([('account_key', '707'), ('status', 'canceled'), ('join_date', datetime.datetime(2014, 12, 3, 0, 0)), ('cancel_date', datetime.datetime(2014, 12, 3, 0, 0)), ('days_to_cancel', 0), ('is_udacity', False), ('is_canceled', True)])\n",
      "OrderedDict([('account_key', '717'), ('status', 'canceled'), ('join_date', datetime.datetime(2014, 12, 4, 0, 0)), ('cancel_date', datetime.datetime(2014, 12, 4, 0, 0)), ('days_to_cancel', 0), ('is_udacity', False), ('is_canceled', True)])\n",
      "OrderedDict([('account_key', '727'), ('status', 'canceled'), ('join_date', datetime.datetime(2014, 12, 7, 0, 0)), ('cancel_date', datetime.datetime(2014, 12, 7, 0, 0)), ('days_to_cancel', 0), ('is_udacity', False), ('is_canceled', True)])\n",
      "OrderedDict([('account_key', '1273'), ('status', 'canceled'), ('join_date', datetime.datetime(2015, 1, 12, 0, 0)), ('cancel_date', datetime.datetime(2015, 1, 12, 0, 0)), ('days_to_cancel', 0), ('is_udacity', False), ('is_canceled', True)])\n",
      "OrderedDict([('account_key', '1238'), ('status', 'canceled'), ('join_date', datetime.datetime(2014, 11, 10, 0, 0)), ('cancel_date', datetime.datetime(2014, 11, 10, 0, 0)), ('days_to_cancel', 0), ('is_udacity', False), ('is_canceled', True)])\n",
      "OrderedDict([('account_key', '1044'), ('status', 'canceled'), ('join_date', datetime.datetime(2015, 2, 8, 0, 0)), ('cancel_date', datetime.datetime(2015, 2, 8, 0, 0)), ('days_to_cancel', 0), ('is_udacity', False), ('is_canceled', True)])\n",
      "OrderedDict([('account_key', '749'), ('status', 'canceled'), ('join_date', datetime.datetime(2015, 3, 5, 0, 0)), ('cancel_date', datetime.datetime(2015, 3, 5, 0, 0)), ('days_to_cancel', 0), ('is_udacity', False), ('is_canceled', True)])\n",
      "OrderedDict([('account_key', '1129'), ('status', 'canceled'), ('join_date', datetime.datetime(2015, 3, 7, 0, 0)), ('cancel_date', datetime.datetime(2015, 3, 7, 0, 0)), ('days_to_cancel', 0), ('is_udacity', False), ('is_canceled', True)])\n",
      "OrderedDict([('account_key', '1129'), ('status', 'canceled'), ('join_date', datetime.datetime(2015, 2, 11, 0, 0)), ('cancel_date', datetime.datetime(2015, 2, 11, 0, 0)), ('days_to_cancel', 0), ('is_udacity', False), ('is_canceled', True)])\n",
      "OrderedDict([('account_key', '926'), ('status', 'canceled'), ('join_date', datetime.datetime(2015, 4, 6, 0, 0)), ('cancel_date', datetime.datetime(2015, 4, 6, 0, 0)), ('days_to_cancel', 0), ('is_udacity', False), ('is_canceled', True)])\n",
      "OrderedDict([('account_key', '711'), ('status', 'canceled'), ('join_date', datetime.datetime(2015, 5, 8, 0, 0)), ('cancel_date', datetime.datetime(2015, 5, 8, 0, 0)), ('days_to_cancel', 0), ('is_udacity', False), ('is_canceled', True)])\n",
      "OrderedDict([('account_key', '803'), ('status', 'canceled'), ('join_date', datetime.datetime(2015, 1, 8, 0, 0)), ('cancel_date', datetime.datetime(2015, 1, 8, 0, 0)), ('days_to_cancel', 0), ('is_udacity', False), ('is_canceled', True)])\n",
      "OrderedDict([('account_key', '799'), ('status', 'canceled'), ('join_date', datetime.datetime(2015, 2, 6, 0, 0)), ('cancel_date', datetime.datetime(2015, 2, 6, 0, 0)), ('days_to_cancel', 0), ('is_udacity', False), ('is_canceled', True)])\n",
      "OrderedDict([('account_key', '789'), ('status', 'canceled'), ('join_date', datetime.datetime(2015, 2, 6, 0, 0)), ('cancel_date', datetime.datetime(2015, 2, 6, 0, 0)), ('days_to_cancel', 0), ('is_udacity', False), ('is_canceled', True)])\n",
      "OrderedDict([('account_key', '819'), ('status', 'canceled'), ('join_date', datetime.datetime(2015, 3, 4, 0, 0)), ('cancel_date', datetime.datetime(2015, 3, 4, 0, 0)), ('days_to_cancel', 0), ('is_udacity', False), ('is_canceled', True)])\n",
      "OrderedDict([('account_key', '819'), ('status', 'canceled'), ('join_date', datetime.datetime(2015, 3, 4, 0, 0)), ('cancel_date', datetime.datetime(2015, 3, 4, 0, 0)), ('days_to_cancel', 0), ('is_udacity', False), ('is_canceled', True)])\n",
      "OrderedDict([('account_key', '902'), ('status', 'canceled'), ('join_date', datetime.datetime(2015, 5, 29, 0, 0)), ('cancel_date', datetime.datetime(2015, 5, 29, 0, 0)), ('days_to_cancel', 0), ('is_udacity', False), ('is_canceled', True)])\n",
      "OrderedDict([('account_key', '996'), ('status', 'canceled'), ('join_date', datetime.datetime(2015, 5, 29, 0, 0)), ('cancel_date', datetime.datetime(2015, 5, 29, 0, 0)), ('days_to_cancel', 0), ('is_udacity', False), ('is_canceled', True)])\n",
      "OrderedDict([('account_key', '1213'), ('status', 'canceled'), ('join_date', datetime.datetime(2015, 1, 12, 0, 0)), ('cancel_date', datetime.datetime(2015, 1, 12, 0, 0)), ('days_to_cancel', 0), ('is_udacity', False), ('is_canceled', True)])\n",
      "OrderedDict([('account_key', '733'), ('status', 'canceled'), ('join_date', datetime.datetime(2015, 1, 12, 0, 0)), ('cancel_date', datetime.datetime(2015, 1, 12, 0, 0)), ('days_to_cancel', 0), ('is_udacity', False), ('is_canceled', True)])\n",
      "OrderedDict([('account_key', '1237'), ('status', 'canceled'), ('join_date', datetime.datetime(2015, 5, 28, 0, 0)), ('cancel_date', datetime.datetime(2015, 5, 28, 0, 0)), ('days_to_cancel', 0), ('is_udacity', False), ('is_canceled', True)])\n",
      "OrderedDict([('account_key', '1069'), ('status', 'canceled'), ('join_date', datetime.datetime(2015, 6, 1, 0, 0)), ('cancel_date', datetime.datetime(2015, 6, 1, 0, 0)), ('days_to_cancel', 0), ('is_udacity', True), ('is_canceled', True)])\n",
      "OrderedDict([('account_key', '1086'), ('status', 'canceled'), ('join_date', datetime.datetime(2015, 6, 9, 0, 0)), ('cancel_date', datetime.datetime(2015, 6, 9, 0, 0)), ('days_to_cancel', 0), ('is_udacity', False), ('is_canceled', True)])\n",
      "OrderedDict([('account_key', '1190'), ('status', 'canceled'), ('join_date', datetime.datetime(2015, 3, 6, 0, 0)), ('cancel_date', datetime.datetime(2015, 3, 6, 0, 0)), ('days_to_cancel', 0), ('is_udacity', False), ('is_canceled', True)])\n",
      "OrderedDict([('account_key', '914'), ('status', 'canceled'), ('join_date', datetime.datetime(2015, 4, 2, 0, 0)), ('cancel_date', datetime.datetime(2015, 4, 2, 0, 0)), ('days_to_cancel', 0), ('is_udacity', False), ('is_canceled', True)])\n",
      "OrderedDict([('account_key', '914'), ('status', 'canceled'), ('join_date', datetime.datetime(2015, 7, 17, 0, 0)), ('cancel_date', datetime.datetime(2015, 7, 17, 0, 0)), ('days_to_cancel', 0), ('is_udacity', False), ('is_canceled', True)])\n",
      "OrderedDict([('account_key', '968'), ('status', 'canceled'), ('join_date', datetime.datetime(2015, 7, 17, 0, 0)), ('cancel_date', datetime.datetime(2015, 7, 17, 0, 0)), ('days_to_cancel', 0), ('is_udacity', False), ('is_canceled', True)])\n",
      "OrderedDict([('account_key', '1155'), ('status', 'canceled'), ('join_date', datetime.datetime(2015, 7, 17, 0, 0)), ('cancel_date', datetime.datetime(2015, 7, 17, 0, 0)), ('days_to_cancel', 0), ('is_udacity', False), ('is_canceled', True)])\n",
      "OrderedDict([('account_key', '766'), ('status', 'canceled'), ('join_date', datetime.datetime(2015, 5, 10, 0, 0)), ('cancel_date', datetime.datetime(2015, 5, 10, 0, 0)), ('days_to_cancel', 0), ('is_udacity', False), ('is_canceled', True)])\n",
      "OrderedDict([('account_key', '739'), ('status', 'canceled'), ('join_date', datetime.datetime(2015, 4, 5, 0, 0)), ('cancel_date', datetime.datetime(2015, 4, 5, 0, 0)), ('days_to_cancel', 0), ('is_udacity', False), ('is_canceled', True)])\n",
      "OrderedDict([('account_key', '1222'), ('status', 'canceled'), ('join_date', datetime.datetime(2015, 4, 7, 0, 0)), ('cancel_date', datetime.datetime(2015, 4, 7, 0, 0)), ('days_to_cancel', 0), ('is_udacity', False), ('is_canceled', True)])\n",
      "OrderedDict([('account_key', '1125'), ('status', 'canceled'), ('join_date', datetime.datetime(2015, 5, 31, 0, 0)), ('cancel_date', datetime.datetime(2015, 5, 31, 0, 0)), ('days_to_cancel', 0), ('is_udacity', False), ('is_canceled', True)])\n",
      "OrderedDict([('account_key', '1025'), ('status', 'canceled'), ('join_date', datetime.datetime(2015, 6, 7, 0, 0)), ('cancel_date', datetime.datetime(2015, 6, 7, 0, 0)), ('days_to_cancel', 0), ('is_udacity', False), ('is_canceled', True)])\n",
      "OrderedDict([('account_key', '750'), ('status', 'canceled'), ('join_date', datetime.datetime(2015, 6, 6, 0, 0)), ('cancel_date', datetime.datetime(2015, 6, 6, 0, 0)), ('days_to_cancel', 0), ('is_udacity', False), ('is_canceled', True)])\n",
      "OrderedDict([('account_key', '889'), ('status', 'canceled'), ('join_date', datetime.datetime(2015, 8, 11, 0, 0)), ('cancel_date', datetime.datetime(2015, 8, 11, 0, 0)), ('days_to_cancel', 0), ('is_udacity', False), ('is_canceled', True)])\n",
      "OrderedDict([('account_key', '737'), ('status', 'canceled'), ('join_date', datetime.datetime(2014, 11, 10, 0, 0)), ('cancel_date', datetime.datetime(2014, 11, 10, 0, 0)), ('days_to_cancel', 0), ('is_udacity', False), ('is_canceled', True)])\n",
      "OrderedDict([('account_key', '878'), ('status', 'canceled'), ('join_date', datetime.datetime(2014, 11, 10, 0, 0)), ('cancel_date', datetime.datetime(2014, 11, 10, 0, 0)), ('days_to_cancel', 0), ('is_udacity', False), ('is_canceled', True)])\n",
      "OrderedDict([('account_key', '981'), ('status', 'canceled'), ('join_date', datetime.datetime(2015, 2, 7, 0, 0)), ('cancel_date', datetime.datetime(2015, 2, 7, 0, 0)), ('days_to_cancel', 0), ('is_udacity', False), ('is_canceled', True)])\n",
      "OrderedDict([('account_key', '1101'), ('status', 'current'), ('join_date', datetime.datetime(2015, 2, 25, 0, 0)), ('cancel_date', None), ('days_to_cancel', None), ('is_udacity', True), ('is_canceled', False)])\n",
      "OrderedDict([('account_key', '1148'), ('status', 'canceled'), ('join_date', datetime.datetime(2015, 3, 9, 0, 0)), ('cancel_date', datetime.datetime(2015, 3, 9, 0, 0)), ('days_to_cancel', 0), ('is_udacity', False), ('is_canceled', True)])\n",
      "OrderedDict([('account_key', '1186'), ('status', 'canceled'), ('join_date', datetime.datetime(2015, 3, 11, 0, 0)), ('cancel_date', datetime.datetime(2015, 3, 11, 0, 0)), ('days_to_cancel', 0), ('is_udacity', False), ('is_canceled', True)])\n",
      "OrderedDict([('account_key', '725'), ('status', 'canceled'), ('join_date', datetime.datetime(2014, 12, 6, 0, 0)), ('cancel_date', datetime.datetime(2014, 12, 6, 0, 0)), ('days_to_cancel', 0), ('is_udacity', False), ('is_canceled', True)])\n",
      "OrderedDict([('account_key', '1145'), ('status', 'canceled'), ('join_date', datetime.datetime(2015, 4, 4, 0, 0)), ('cancel_date', datetime.datetime(2015, 4, 4, 0, 0)), ('days_to_cancel', 0), ('is_udacity', False), ('is_canceled', True)])\n",
      "OrderedDict([('account_key', '802'), ('status', 'canceled'), ('join_date', datetime.datetime(2015, 1, 8, 0, 0)), ('cancel_date', datetime.datetime(2015, 1, 8, 0, 0)), ('days_to_cancel', 0), ('is_udacity', False), ('is_canceled', True)])\n",
      "OrderedDict([('account_key', '664'), ('status', 'canceled'), ('join_date', datetime.datetime(2015, 1, 8, 0, 0)), ('cancel_date', datetime.datetime(2015, 1, 8, 0, 0)), ('days_to_cancel', 0), ('is_udacity', False), ('is_canceled', True)])\n",
      "OrderedDict([('account_key', '997'), ('status', 'canceled'), ('join_date', datetime.datetime(2015, 1, 12, 0, 0)), ('cancel_date', datetime.datetime(2015, 1, 12, 0, 0)), ('days_to_cancel', 0), ('is_udacity', False), ('is_canceled', True)])\n",
      "OrderedDict([('account_key', '870'), ('status', 'canceled'), ('join_date', datetime.datetime(2015, 5, 12, 0, 0)), ('cancel_date', datetime.datetime(2015, 5, 12, 0, 0)), ('days_to_cancel', 0), ('is_udacity', False), ('is_canceled', True)])\n",
      "OrderedDict([('account_key', '1284'), ('status', 'canceled'), ('join_date', datetime.datetime(2015, 1, 13, 0, 0)), ('cancel_date', datetime.datetime(2015, 1, 13, 0, 0)), ('days_to_cancel', 0), ('is_udacity', False), ('is_canceled', True)])\n",
      "OrderedDict([('account_key', '1079'), ('status', 'canceled'), ('join_date', datetime.datetime(2015, 2, 9, 0, 0)), ('cancel_date', datetime.datetime(2015, 2, 9, 0, 0)), ('days_to_cancel', 0), ('is_udacity', False), ('is_canceled', True)])\n",
      "OrderedDict([('account_key', '1063'), ('status', 'canceled'), ('join_date', datetime.datetime(2015, 7, 14, 0, 0)), ('cancel_date', datetime.datetime(2015, 7, 14, 0, 0)), ('days_to_cancel', 0), ('is_udacity', False), ('is_canceled', True)])\n",
      "OrderedDict([('account_key', '1270'), ('status', 'canceled'), ('join_date', datetime.datetime(2015, 7, 20, 0, 0)), ('cancel_date', datetime.datetime(2015, 7, 20, 0, 0)), ('days_to_cancel', 0), ('is_udacity', False), ('is_canceled', True)])\n",
      "OrderedDict([('account_key', '1291'), ('status', 'canceled'), ('join_date', datetime.datetime(2015, 6, 3, 0, 0)), ('cancel_date', datetime.datetime(2015, 6, 3, 0, 0)), ('days_to_cancel', 0), ('is_udacity', False), ('is_canceled', True)])\n",
      "OrderedDict([('account_key', '1241'), ('status', 'canceled'), ('join_date', datetime.datetime(2015, 6, 9, 0, 0)), ('cancel_date', datetime.datetime(2015, 6, 9, 0, 0)), ('days_to_cancel', 0), ('is_udacity', False), ('is_canceled', True)])\n"
     ]
    }
   ],
   "source": [
    "# TABLES: enrollments AND daily_engagement\n",
    "for enrollment in enrollments:\n",
    "    # get student da tabela enrollments\n",
    "    student = enrollment['account_key']\n",
    "    # verifica se o student NAO esta matriculado\n",
    "    if student not in unique_engagement_students:\n",
    "        print (enrollment)"
   ]
  },
  {
   "cell_type": "markdown",
   "metadata": {},
   "source": [
    "## Rename collumns"
   ]
  },
  {
   "cell_type": "code",
   "execution_count": 2,
   "metadata": {},
   "outputs": [
    {
     "ename": "NameError",
     "evalue": "name 'pd' is not defined",
     "output_type": "error",
     "traceback": [
      "\u001b[0;31m---------------------------------------------------------------------------\u001b[0m",
      "\u001b[0;31mNameError\u001b[0m                                 Traceback (most recent call last)",
      "\u001b[0;32m<ipython-input-2-a467453eb213>\u001b[0m in \u001b[0;36m<module>\u001b[0;34m()\u001b[0m\n\u001b[1;32m      1\u001b[0m \u001b[0;31m# Rename the column names by specifying a list\u001b[0m\u001b[0;34m\u001b[0m\u001b[0;34m\u001b[0m\u001b[0m\n\u001b[1;32m      2\u001b[0m \u001b[0;31m# ['label, 'sms_message'] to the 'names' argument of read_table().\u001b[0m\u001b[0;34m\u001b[0m\u001b[0;34m\u001b[0m\u001b[0m\n\u001b[0;32m----> 3\u001b[0;31m df = pd.read_table('/home/brunocampos01/projetos/data_science/machine_learning/'\n\u001b[0m\u001b[1;32m      4\u001b[0m                         \u001b[0;34m'supervised_learning/data_base/smsspamcollection/SMSSpamCollection'\u001b[0m\u001b[0;34m,\u001b[0m\u001b[0;34m\u001b[0m\u001b[0m\n\u001b[1;32m      5\u001b[0m                    names=['label', 'sms_message'])\n",
      "\u001b[0;31mNameError\u001b[0m: name 'pd' is not defined"
     ]
    }
   ],
   "source": [
    "# Rename the column names by specifying a list \n",
    "# ['label, 'sms_message'] to the 'names' argument of read_table().\n",
    "df = pd.read_table('/home/brunocampos01/projetos/data_science/machine_learning/'\n",
    "                        'supervised_learning/data_base/smsspamcollection/SMSSpamCollection', \n",
    "                   names=['label', 'sms_message'])"
   ]
  },
  {
   "cell_type": "markdown",
   "metadata": {},
   "source": [
    "## Convert String in number"
   ]
  },
  {
   "cell_type": "code",
   "execution_count": null,
   "metadata": {},
   "outputs": [],
   "source": [
    "# Convert the values in the 'label'\n",
    "dict =  {'ham':0, 'spam':1}\n",
    "\n",
    "# mapped collumn to dict \n",
    "df ['label'] = df.label.map(dict)"
   ]
  },
  {
   "cell_type": "markdown",
   "metadata": {},
   "source": [
    "### Tokenizen words"
   ]
  },
  {
   "cell_type": "markdown",
   "metadata": {},
   "source": [
    "To handle this, we will be using sklearns \n",
    "[count vectorizer](http://scikit-learn.org/stable/modules/generated/sklearn.feature_extraction.text.CountVectorizer.html#sklearn.feature_extraction.text.CountVectorizer) method which does the following:\n",
    "\n",
    "* It tokenizes the string(separates the string into individual words) and gives an integer ID to each token.\n",
    "* It counts the occurrence of each of those tokens.\n",
    "\n",
    "** Please Note: ** \n",
    "\n",
    "* The CountVectorizer method automatically converts all tokenized words to their lower case form so that it does not treat words like 'He' and 'he' differently. It does this using the `lowercase` parameter which is by default set to `True`.\n",
    "\n",
    "* It also ignores all punctuation so that words followed by a punctuation mark (for example: 'hello!') are not treated differently than the same words not prefixed or suffixed by a punctuation mark (for example: 'hello'). It does this using the `token_pattern` parameter which has a default regular expression which selects tokens of 2 or more alphanumeric characters.\n",
    "\n",
    "* The third parameter to take note of is the `stop_words` parameter. Stop words refer to the most commonly used words in a language. They include words like 'am', 'an', 'and', 'the' etc. By setting this parameter value to `english`, CountVectorizer will automatically ignore all words(from our input text) that are found in the built in list of english stop words in scikit-learn. This is extremely helpful as stop words can skew our calculations when we are trying to find certain key words that are indicative of spam.\n",
    "\n",
    "We will dive into the application of each of these into our model in a later step, but for now it is important to be aware of such preprocessing techniques available to us when dealing with textual data."
   ]
  },
  {
   "cell_type": "markdown",
   "metadata": {},
   "source": [
    "### Data cleaning in words\n",
    " - lower()\n",
    " - punctuation (translate())\n",
    " - split()\n",
    " \n"
   ]
  },
  {
   "cell_type": "markdown",
   "metadata": {},
   "source": [
    "### Count frequencies words\n",
    "Counter é uma subclasse de dict para contar e mapear objetos hashable\n",
    "\n",
    "`from collections import Counter`\n",
    "\n",
    "`for i in preprocessed_documents:\n",
    "    frequency_counts = Counter(i)\n",
    "    frequency_list.append(frequency_counts)`\n",
    "    \n",
    "    \n",
    "    \n",
    "https://docs.python.org/2//library/collections.html"
   ]
  },
  {
   "cell_type": "markdown",
   "metadata": {},
   "source": [
    "## Vectorize words\n",
    "\n",
    "Serve para depois converter os dados em uma matriz."
   ]
  },
  {
   "cell_type": "code",
   "execution_count": null,
   "metadata": {},
   "outputs": [],
   "source": [
    "from sklearn.feature_extraction.text import CountVectorizer\n",
    "count_vector = CountVectorizer()\n",
    "print(count_vector)"
   ]
  },
  {
   "cell_type": "code",
   "execution_count": null,
   "metadata": {},
   "outputs": [],
   "source": []
  }
 ],
 "metadata": {
  "kernelspec": {
   "display_name": "Python 3",
   "language": "python",
   "name": "python3"
  },
  "language_info": {
   "codemirror_mode": {
    "name": "ipython",
    "version": 3
   },
   "file_extension": ".py",
   "mimetype": "text/x-python",
   "name": "python",
   "nbconvert_exporter": "python",
   "pygments_lexer": "ipython3",
   "version": "3.6.5"
  },
  "latex_envs": {
   "LaTeX_envs_menu_present": true,
   "autoclose": false,
   "autocomplete": true,
   "bibliofile": "biblio.bib",
   "cite_by": "apalike",
   "current_citInitial": 1,
   "eqLabelWithNumbers": true,
   "eqNumInitial": 1,
   "hotkeys": {
    "equation": "Ctrl-E",
    "itemize": "Ctrl-I"
   },
   "labels_anchors": false,
   "latex_user_defs": false,
   "report_style_numbering": false,
   "user_envs_cfg": false
  }
 },
 "nbformat": 4,
 "nbformat_minor": 2
}
