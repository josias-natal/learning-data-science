{
 "cells": [
  {
   "cell_type": "markdown",
   "metadata": {},
   "source": [
    "http://pandas.pydata.org/pandas-docs/stable/"
   ]
  },
  {
   "cell_type": "markdown",
   "metadata": {},
   "source": [
    "O pandas serve para carregar os dados.\n",
    "Se quiser saber mais detalhes, dê uma olhada na Documentação do Pandas.\n"
   ]
  },
  {
   "cell_type": "code",
   "execution_count": 13,
   "metadata": {},
   "outputs": [],
   "source": [
    "import pandas\n",
    "\n",
    "data = pandas.read_csv(\"2_class_data.csv\")"
   ]
  },
  {
   "cell_type": "code",
   "execution_count": 14,
   "metadata": {},
   "outputs": [
    {
     "data": {
      "text/html": [
       "<div>\n",
       "<style scoped>\n",
       "    .dataframe tbody tr th:only-of-type {\n",
       "        vertical-align: middle;\n",
       "    }\n",
       "\n",
       "    .dataframe tbody tr th {\n",
       "        vertical-align: top;\n",
       "    }\n",
       "\n",
       "    .dataframe thead th {\n",
       "        text-align: right;\n",
       "    }\n",
       "</style>\n",
       "<table border=\"1\" class=\"dataframe\">\n",
       "  <thead>\n",
       "    <tr style=\"text-align: right;\">\n",
       "      <th></th>\n",
       "      <th>x1</th>\n",
       "      <th>x2</th>\n",
       "      <th>y</th>\n",
       "    </tr>\n",
       "  </thead>\n",
       "  <tbody>\n",
       "    <tr>\n",
       "      <th>0</th>\n",
       "      <td>0.78051</td>\n",
       "      <td>-0.063669</td>\n",
       "      <td>0</td>\n",
       "    </tr>\n",
       "    <tr>\n",
       "      <th>1</th>\n",
       "      <td>0.28774</td>\n",
       "      <td>0.291390</td>\n",
       "      <td>0</td>\n",
       "    </tr>\n",
       "    <tr>\n",
       "      <th>2</th>\n",
       "      <td>0.40714</td>\n",
       "      <td>0.178780</td>\n",
       "      <td>0</td>\n",
       "    </tr>\n",
       "    <tr>\n",
       "      <th>3</th>\n",
       "      <td>0.29230</td>\n",
       "      <td>0.421700</td>\n",
       "      <td>0</td>\n",
       "    </tr>\n",
       "    <tr>\n",
       "      <th>4</th>\n",
       "      <td>0.50922</td>\n",
       "      <td>0.352560</td>\n",
       "      <td>0</td>\n",
       "    </tr>\n",
       "  </tbody>\n",
       "</table>\n",
       "</div>"
      ],
      "text/plain": [
       "        x1        x2  y\n",
       "0  0.78051 -0.063669  0\n",
       "1  0.28774  0.291390  0\n",
       "2  0.40714  0.178780  0\n",
       "3  0.29230  0.421700  0\n",
       "4  0.50922  0.352560  0"
      ]
     },
     "execution_count": 14,
     "metadata": {},
     "output_type": "execute_result"
    }
   ],
   "source": [
    "data.head()"
   ]
  },
  {
   "cell_type": "markdown",
   "metadata": {},
   "source": [
    "Quando há dados carregados dentro do jupyter já temos um DATAFRAME.\n",
    " - data **EQUIVALE** dataframe\n",
    " - dataframe: **df**"
   ]
  },
  {
   "cell_type": "markdown",
   "metadata": {},
   "source": [
    "### Extração de colunas de um dataframe:"
   ]
  },
  {
   "cell_type": "code",
   "execution_count": 15,
   "metadata": {},
   "outputs": [
    {
     "data": {
      "text/plain": [
       "0    -0.063669\n",
       "1     0.291390\n",
       "2     0.178780\n",
       "3     0.421700\n",
       "4     0.352560\n",
       "5     0.108020\n",
       "6     0.332230\n",
       "7     0.312450\n",
       "8     0.429840\n",
       "9     0.249860\n",
       "10    0.136580\n",
       "11    0.335950\n",
       "12    0.426240\n",
       "13    0.404260\n",
       "14    0.451170\n",
       "15    0.201180\n",
       "16    0.214450\n",
       "17    0.243060\n",
       "18    0.444380\n",
       "19    0.392170\n",
       "20    0.402710\n",
       "21    0.507020\n",
       "22    0.453840\n",
       "23    0.320530\n",
       "24    0.373070\n",
       "25    0.696480\n",
       "26    0.573410\n",
       "27    0.277590\n",
       "28    0.055964\n",
       "29    0.286370\n",
       "        ...   \n",
       "70    0.967640\n",
       "71    0.608650\n",
       "72    0.920750\n",
       "73    0.666660\n",
       "74    0.568450\n",
       "75    0.708500\n",
       "76    0.631670\n",
       "77    0.804240\n",
       "78    0.561080\n",
       "79    0.715820\n",
       "80    0.740600\n",
       "81    0.715480\n",
       "82    0.740410\n",
       "83    0.629270\n",
       "84    0.464100\n",
       "85    0.748470\n",
       "86    0.547570\n",
       "87    0.869850\n",
       "88    0.647360\n",
       "89    0.830580\n",
       "90    0.965410\n",
       "91    0.642450\n",
       "92    0.601380\n",
       "93    0.869550\n",
       "94    0.745160\n",
       "95    0.701400\n",
       "96    0.717820\n",
       "97    0.579910\n",
       "98    0.859870\n",
       "99    0.623590\n",
       "Name: x2, Length: 100, dtype: float64"
      ]
     },
     "execution_count": 15,
     "metadata": {},
     "output_type": "execute_result"
    }
   ],
   "source": [
    "data['x2']"
   ]
  },
  {
   "cell_type": "code",
   "execution_count": null,
   "metadata": {},
   "outputs": [],
   "source": []
  }
 ],
 "metadata": {
  "kernelspec": {
   "display_name": "Python 3",
   "language": "python",
   "name": "python3"
  },
  "language_info": {
   "codemirror_mode": {
    "name": "ipython",
    "version": 3
   },
   "file_extension": ".py",
   "mimetype": "text/x-python",
   "name": "python",
   "nbconvert_exporter": "python",
   "pygments_lexer": "ipython3",
   "version": "3.6.5"
  }
 },
 "nbformat": 4,
 "nbformat_minor": 2
}
