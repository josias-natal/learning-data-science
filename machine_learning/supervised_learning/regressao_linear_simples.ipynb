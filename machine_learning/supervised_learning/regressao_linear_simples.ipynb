{
 "cells": [
  {
   "cell_type": "markdown",
   "metadata": {},
   "source": [
    "# Regressão linear no scikit-learn\n",
    "\n",
    "Nesta seção, você vai usar a regressão linear para prever a expectativa de vida a partir do índice de massa corporal (IMC). Antes de fazer isso, vamos dar uma olhada nas ferramentas necessárias para construir esse modelo.\n",
    "\n",
    "Para seu modelo de regressão linear, você usará a classe **LinearRegression** do scikit-learn. Essa classe fornece a função **fit()** para ajustar o modelo a seus dados."
   ]
  },
  {
   "cell_type": "code",
   "execution_count": 32,
   "metadata": {},
   "outputs": [],
   "source": [
    "import pandas as pd\n",
    "from sklearn.linear_model import LinearRegression"
   ]
  },
  {
   "cell_type": "markdown",
   "metadata": {},
   "source": [
    "O arquivo de dados é \"bmi_and_life_expectancy.csv\". Ele inclui três colunas, contendo os seguintes dados:\n",
    " - Country – O país em que a pessoa nasceu.\n",
    " - Life expectancy – A expectativa de vida média ao nascer para uma pessoa nesse país.\n",
    " - BMI – O IMC médio para homens nesse país."
   ]
  },
  {
   "cell_type": "markdown",
   "metadata": {},
   "source": [
    "### 1.Carregue os dados\n",
    "\n",
    "Os dados estão em um arquivo chamado \"bmi_and_life_expectancy.csv\".\n",
    "Use o read_csv do pandas para carregar os dados em um dataframe (não se esqueça de importar pandas!)\n",
    "Atribua o dataframe à variável bmi_life_data."
   ]
  },
  {
   "cell_type": "code",
   "execution_count": 33,
   "metadata": {},
   "outputs": [],
   "source": [
    "# Load the data in dataframe\n",
    "bmi_life_data = pd.read_csv('bmi_and_life_expectancy.csv') "
   ]
  },
  {
   "cell_type": "markdown",
   "metadata": {},
   "source": [
    "### 2.Crie um modelo de regressão linear\n",
    "\n",
    "Crie um modelo de regressão usando o método **LinearRegression()** do scikit-learn e atribua a bmi_life_model.\n",
    "Ajuste o modelo aos dados com o metodo **fit(x, y)**"
   ]
  },
  {
   "cell_type": "code",
   "execution_count": 34,
   "metadata": {},
   "outputs": [
    {
     "data": {
      "text/plain": [
       "LinearRegression(copy_X=True, fit_intercept=True, n_jobs=1, normalize=False)"
      ]
     },
     "execution_count": 34,
     "metadata": {},
     "output_type": "execute_result"
    }
   ],
   "source": [
    "# Make and fit the linear regression model\n",
    "bmi_life_model = LinearRegression()\n",
    "bmi_life_model.fit(bmi_life_data[['BMI']], bmi_life_data[['Life expectancy']])"
   ]
  },
  {
   "cell_type": "markdown",
   "metadata": {},
   "source": [
    "**Sobre o metodo fit():** Ajustar o modelo significa encontrar a melhor linha que ajusta os dados de treinamento."
   ]
  },
  {
   "cell_type": "markdown",
   "metadata": {},
   "source": [
    "### 3.Faça uma previsão usando o modelo\n",
    "\n",
    "Faça uma previsão usando um IMC de 21.07931 e atribua o resultado à variável laos_life_exp."
   ]
  },
  {
   "cell_type": "code",
   "execution_count": 35,
   "metadata": {},
   "outputs": [
    {
     "name": "stdout",
     "output_type": "stream",
     "text": [
      "The Predict life expectancy to Laos is: [[60.31564716]]\n"
     ]
    }
   ],
   "source": [
    "# Make a prediction using the model\n",
    "# TODO: Predict life expectancy for a BMI value of 21.07931\n",
    "laos_life_exp = bmi_life_model.predict(21.07931)\n",
    "print(f'The Predict life expectancy to Laos is: {laos_life_exp}')"
   ]
  },
  {
   "cell_type": "code",
   "execution_count": null,
   "metadata": {},
   "outputs": [],
   "source": []
  }
 ],
 "metadata": {
  "kernelspec": {
   "display_name": "Python 3",
   "language": "python",
   "name": "python3"
  },
  "language_info": {
   "codemirror_mode": {
    "name": "ipython",
    "version": 3
   },
   "file_extension": ".py",
   "mimetype": "text/x-python",
   "name": "python",
   "nbconvert_exporter": "python",
   "pygments_lexer": "ipython3",
   "version": "3.6.5"
  }
 },
 "nbformat": 4,
 "nbformat_minor": 2
}
